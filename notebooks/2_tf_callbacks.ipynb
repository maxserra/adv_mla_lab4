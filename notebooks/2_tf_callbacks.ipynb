{
 "cells": [
  {
   "cell_type": "code",
   "execution_count": null,
   "id": "403a64e6-bf3f-4e3e-8db6-7b4168425cc5",
   "metadata": {},
   "outputs": [],
   "source": []
  },
  {
   "cell_type": "code",
   "execution_count": 1,
   "id": "fcc04349-d509-41f3-8d59-7a2063a51d95",
   "metadata": {
    "tags": []
   },
   "outputs": [
    {
     "name": "stdout",
     "output_type": "stream",
     "text": [
      "Looking in indexes: https://test.pypi.org/simple/\n",
      "Requirement already satisfied: my-krml-24925125==0.1.9 in /Users/maxserra/Library/Caches/pypoetry/virtualenvs/adv-mla-lab4-333P50J0-py3.9/lib/python3.9/site-packages (0.1.9)\n",
      "Requirement already satisfied: pandas==2.0.3 in /Users/maxserra/Library/Caches/pypoetry/virtualenvs/adv-mla-lab4-333P50J0-py3.9/lib/python3.9/site-packages (from my-krml-24925125==0.1.9) (2.0.3)\n",
      "Requirement already satisfied: scikit-learn==1.2.2 in /Users/maxserra/Library/Caches/pypoetry/virtualenvs/adv-mla-lab4-333P50J0-py3.9/lib/python3.9/site-packages (from my-krml-24925125==0.1.9) (1.2.2)\n",
      "Requirement already satisfied: python-dateutil>=2.8.2 in /Users/maxserra/Library/Caches/pypoetry/virtualenvs/adv-mla-lab4-333P50J0-py3.9/lib/python3.9/site-packages (from pandas==2.0.3->my-krml-24925125==0.1.9) (2.8.2)\n",
      "Requirement already satisfied: pytz>=2020.1 in /Users/maxserra/Library/Caches/pypoetry/virtualenvs/adv-mla-lab4-333P50J0-py3.9/lib/python3.9/site-packages (from pandas==2.0.3->my-krml-24925125==0.1.9) (2023.3.post1)\n",
      "Requirement already satisfied: tzdata>=2022.1 in /Users/maxserra/Library/Caches/pypoetry/virtualenvs/adv-mla-lab4-333P50J0-py3.9/lib/python3.9/site-packages (from pandas==2.0.3->my-krml-24925125==0.1.9) (2023.3)\n",
      "Requirement already satisfied: numpy>=1.20.3 in /Users/maxserra/Library/Caches/pypoetry/virtualenvs/adv-mla-lab4-333P50J0-py3.9/lib/python3.9/site-packages (from pandas==2.0.3->my-krml-24925125==0.1.9) (1.25.2)\n",
      "Requirement already satisfied: scipy>=1.3.2 in /Users/maxserra/Library/Caches/pypoetry/virtualenvs/adv-mla-lab4-333P50J0-py3.9/lib/python3.9/site-packages (from scikit-learn==1.2.2->my-krml-24925125==0.1.9) (1.11.2)\n",
      "Requirement already satisfied: joblib>=1.1.1 in /Users/maxserra/Library/Caches/pypoetry/virtualenvs/adv-mla-lab4-333P50J0-py3.9/lib/python3.9/site-packages (from scikit-learn==1.2.2->my-krml-24925125==0.1.9) (1.3.2)\n",
      "Requirement already satisfied: threadpoolctl>=2.0.0 in /Users/maxserra/Library/Caches/pypoetry/virtualenvs/adv-mla-lab4-333P50J0-py3.9/lib/python3.9/site-packages (from scikit-learn==1.2.2->my-krml-24925125==0.1.9) (3.2.0)\n",
      "Requirement already satisfied: six>=1.5 in /Users/maxserra/Library/Caches/pypoetry/virtualenvs/adv-mla-lab4-333P50J0-py3.9/lib/python3.9/site-packages (from python-dateutil>=2.8.2->pandas==2.0.3->my-krml-24925125==0.1.9) (1.16.0)\n"
     ]
    }
   ],
   "source": [
    "%load_ext autoreload\n",
    "%autoreload 2\n",
    "\n",
    "! pip install -i https://test.pypi.org/simple/ my-krml-24925125==0.1.9"
   ]
  },
  {
   "cell_type": "code",
   "execution_count": null,
   "id": "e98f4c2a-632f-44cd-afa0-ba48451f6c5f",
   "metadata": {},
   "outputs": [],
   "source": []
  },
  {
   "cell_type": "code",
   "execution_count": 5,
   "id": "56d4c6cb-4937-4086-958b-1e3c8c153bb1",
   "metadata": {},
   "outputs": [],
   "source": [
    "import pandas as pd\n",
    "import numpy as np"
   ]
  },
  {
   "cell_type": "code",
   "execution_count": 6,
   "id": "21f1719b-6bc0-4cc2-b341-bd6b7e55f216",
   "metadata": {
    "tags": []
   },
   "outputs": [],
   "source": [
    "df = pd.read_csv(\"../data/raw/CVD_cleaned.csv\")"
   ]
  },
  {
   "cell_type": "code",
   "execution_count": 7,
   "id": "8979204b-2306-425d-9e09-38c781dfd21a",
   "metadata": {
    "tags": []
   },
   "outputs": [
    {
     "data": {
      "text/html": [
       "<div>\n",
       "<style scoped>\n",
       "    .dataframe tbody tr th:only-of-type {\n",
       "        vertical-align: middle;\n",
       "    }\n",
       "\n",
       "    .dataframe tbody tr th {\n",
       "        vertical-align: top;\n",
       "    }\n",
       "\n",
       "    .dataframe thead th {\n",
       "        text-align: right;\n",
       "    }\n",
       "</style>\n",
       "<table border=\"1\" class=\"dataframe\">\n",
       "  <thead>\n",
       "    <tr style=\"text-align: right;\">\n",
       "      <th></th>\n",
       "      <th>General_Health</th>\n",
       "      <th>Checkup</th>\n",
       "      <th>Exercise</th>\n",
       "      <th>Heart_Disease</th>\n",
       "      <th>Skin_Cancer</th>\n",
       "      <th>Other_Cancer</th>\n",
       "      <th>Depression</th>\n",
       "      <th>Diabetes</th>\n",
       "      <th>Arthritis</th>\n",
       "      <th>Sex</th>\n",
       "      <th>Age_Category</th>\n",
       "      <th>Height_(cm)</th>\n",
       "      <th>Weight_(kg)</th>\n",
       "      <th>BMI</th>\n",
       "      <th>Smoking_History</th>\n",
       "      <th>Alcohol_Consumption</th>\n",
       "      <th>Fruit_Consumption</th>\n",
       "      <th>Green_Vegetables_Consumption</th>\n",
       "      <th>FriedPotato_Consumption</th>\n",
       "    </tr>\n",
       "  </thead>\n",
       "  <tbody>\n",
       "    <tr>\n",
       "      <th>0</th>\n",
       "      <td>Poor</td>\n",
       "      <td>Within the past 2 years</td>\n",
       "      <td>No</td>\n",
       "      <td>No</td>\n",
       "      <td>No</td>\n",
       "      <td>No</td>\n",
       "      <td>No</td>\n",
       "      <td>No</td>\n",
       "      <td>Yes</td>\n",
       "      <td>Female</td>\n",
       "      <td>70-74</td>\n",
       "      <td>150.0</td>\n",
       "      <td>32.66</td>\n",
       "      <td>14.54</td>\n",
       "      <td>Yes</td>\n",
       "      <td>0.0</td>\n",
       "      <td>30.0</td>\n",
       "      <td>16.0</td>\n",
       "      <td>12.0</td>\n",
       "    </tr>\n",
       "    <tr>\n",
       "      <th>1</th>\n",
       "      <td>Very Good</td>\n",
       "      <td>Within the past year</td>\n",
       "      <td>No</td>\n",
       "      <td>Yes</td>\n",
       "      <td>No</td>\n",
       "      <td>No</td>\n",
       "      <td>No</td>\n",
       "      <td>Yes</td>\n",
       "      <td>No</td>\n",
       "      <td>Female</td>\n",
       "      <td>70-74</td>\n",
       "      <td>165.0</td>\n",
       "      <td>77.11</td>\n",
       "      <td>28.29</td>\n",
       "      <td>No</td>\n",
       "      <td>0.0</td>\n",
       "      <td>30.0</td>\n",
       "      <td>0.0</td>\n",
       "      <td>4.0</td>\n",
       "    </tr>\n",
       "    <tr>\n",
       "      <th>2</th>\n",
       "      <td>Very Good</td>\n",
       "      <td>Within the past year</td>\n",
       "      <td>Yes</td>\n",
       "      <td>No</td>\n",
       "      <td>No</td>\n",
       "      <td>No</td>\n",
       "      <td>No</td>\n",
       "      <td>Yes</td>\n",
       "      <td>No</td>\n",
       "      <td>Female</td>\n",
       "      <td>60-64</td>\n",
       "      <td>163.0</td>\n",
       "      <td>88.45</td>\n",
       "      <td>33.47</td>\n",
       "      <td>No</td>\n",
       "      <td>4.0</td>\n",
       "      <td>12.0</td>\n",
       "      <td>3.0</td>\n",
       "      <td>16.0</td>\n",
       "    </tr>\n",
       "    <tr>\n",
       "      <th>3</th>\n",
       "      <td>Poor</td>\n",
       "      <td>Within the past year</td>\n",
       "      <td>Yes</td>\n",
       "      <td>Yes</td>\n",
       "      <td>No</td>\n",
       "      <td>No</td>\n",
       "      <td>No</td>\n",
       "      <td>Yes</td>\n",
       "      <td>No</td>\n",
       "      <td>Male</td>\n",
       "      <td>75-79</td>\n",
       "      <td>180.0</td>\n",
       "      <td>93.44</td>\n",
       "      <td>28.73</td>\n",
       "      <td>No</td>\n",
       "      <td>0.0</td>\n",
       "      <td>30.0</td>\n",
       "      <td>30.0</td>\n",
       "      <td>8.0</td>\n",
       "    </tr>\n",
       "    <tr>\n",
       "      <th>4</th>\n",
       "      <td>Good</td>\n",
       "      <td>Within the past year</td>\n",
       "      <td>No</td>\n",
       "      <td>No</td>\n",
       "      <td>No</td>\n",
       "      <td>No</td>\n",
       "      <td>No</td>\n",
       "      <td>No</td>\n",
       "      <td>No</td>\n",
       "      <td>Male</td>\n",
       "      <td>80+</td>\n",
       "      <td>191.0</td>\n",
       "      <td>88.45</td>\n",
       "      <td>24.37</td>\n",
       "      <td>Yes</td>\n",
       "      <td>0.0</td>\n",
       "      <td>8.0</td>\n",
       "      <td>4.0</td>\n",
       "      <td>0.0</td>\n",
       "    </tr>\n",
       "  </tbody>\n",
       "</table>\n",
       "</div>"
      ],
      "text/plain": [
       "  General_Health                  Checkup Exercise Heart_Disease Skin_Cancer  \\\n",
       "0           Poor  Within the past 2 years       No            No          No   \n",
       "1      Very Good     Within the past year       No           Yes          No   \n",
       "2      Very Good     Within the past year      Yes            No          No   \n",
       "3           Poor     Within the past year      Yes           Yes          No   \n",
       "4           Good     Within the past year       No            No          No   \n",
       "\n",
       "  Other_Cancer Depression Diabetes Arthritis     Sex Age_Category  \\\n",
       "0           No         No       No       Yes  Female        70-74   \n",
       "1           No         No      Yes        No  Female        70-74   \n",
       "2           No         No      Yes        No  Female        60-64   \n",
       "3           No         No      Yes        No    Male        75-79   \n",
       "4           No         No       No        No    Male          80+   \n",
       "\n",
       "   Height_(cm)  Weight_(kg)    BMI Smoking_History  Alcohol_Consumption  \\\n",
       "0        150.0        32.66  14.54             Yes                  0.0   \n",
       "1        165.0        77.11  28.29              No                  0.0   \n",
       "2        163.0        88.45  33.47              No                  4.0   \n",
       "3        180.0        93.44  28.73              No                  0.0   \n",
       "4        191.0        88.45  24.37             Yes                  0.0   \n",
       "\n",
       "   Fruit_Consumption  Green_Vegetables_Consumption  FriedPotato_Consumption  \n",
       "0               30.0                          16.0                     12.0  \n",
       "1               30.0                           0.0                      4.0  \n",
       "2               12.0                           3.0                     16.0  \n",
       "3               30.0                          30.0                      8.0  \n",
       "4                8.0                           4.0                      0.0  "
      ]
     },
     "execution_count": 7,
     "metadata": {},
     "output_type": "execute_result"
    }
   ],
   "source": [
    "df.head(5)"
   ]
  },
  {
   "cell_type": "code",
   "execution_count": 8,
   "id": "d899dbd8-05a8-45b5-896f-0613cb3fbe15",
   "metadata": {
    "tags": []
   },
   "outputs": [
    {
     "data": {
      "text/plain": [
       "(308854, 19)"
      ]
     },
     "execution_count": 8,
     "metadata": {},
     "output_type": "execute_result"
    }
   ],
   "source": [
    "df.shape"
   ]
  },
  {
   "cell_type": "code",
   "execution_count": 6,
   "id": "390d3468-bcfc-40e1-a3b2-27d3e407776f",
   "metadata": {
    "tags": []
   },
   "outputs": [
    {
     "name": "stdout",
     "output_type": "stream",
     "text": [
      "<class 'pandas.core.frame.DataFrame'>\n",
      "RangeIndex: 308854 entries, 0 to 308853\n",
      "Data columns (total 19 columns):\n",
      " #   Column                        Non-Null Count   Dtype  \n",
      "---  ------                        --------------   -----  \n",
      " 0   General_Health                308854 non-null  object \n",
      " 1   Checkup                       308854 non-null  object \n",
      " 2   Exercise                      308854 non-null  object \n",
      " 3   Heart_Disease                 308854 non-null  object \n",
      " 4   Skin_Cancer                   308854 non-null  object \n",
      " 5   Other_Cancer                  308854 non-null  object \n",
      " 6   Depression                    308854 non-null  object \n",
      " 7   Diabetes                      308854 non-null  object \n",
      " 8   Arthritis                     308854 non-null  object \n",
      " 9   Sex                           308854 non-null  object \n",
      " 10  Age_Category                  308854 non-null  object \n",
      " 11  Height_(cm)                   308854 non-null  float64\n",
      " 12  Weight_(kg)                   308854 non-null  float64\n",
      " 13  BMI                           308854 non-null  float64\n",
      " 14  Smoking_History               308854 non-null  object \n",
      " 15  Alcohol_Consumption           308854 non-null  float64\n",
      " 16  Fruit_Consumption             308854 non-null  float64\n",
      " 17  Green_Vegetables_Consumption  308854 non-null  float64\n",
      " 18  FriedPotato_Consumption       308854 non-null  float64\n",
      "dtypes: float64(7), object(12)\n",
      "memory usage: 44.8+ MB\n"
     ]
    }
   ],
   "source": [
    "df.info()"
   ]
  },
  {
   "cell_type": "code",
   "execution_count": 7,
   "id": "b93160c6-2d2b-48ca-bcdc-19b4695b4080",
   "metadata": {
    "tags": []
   },
   "outputs": [
    {
     "data": {
      "text/html": [
       "<div>\n",
       "<style scoped>\n",
       "    .dataframe tbody tr th:only-of-type {\n",
       "        vertical-align: middle;\n",
       "    }\n",
       "\n",
       "    .dataframe tbody tr th {\n",
       "        vertical-align: top;\n",
       "    }\n",
       "\n",
       "    .dataframe thead th {\n",
       "        text-align: right;\n",
       "    }\n",
       "</style>\n",
       "<table border=\"1\" class=\"dataframe\">\n",
       "  <thead>\n",
       "    <tr style=\"text-align: right;\">\n",
       "      <th></th>\n",
       "      <th>Height_(cm)</th>\n",
       "      <th>Weight_(kg)</th>\n",
       "      <th>BMI</th>\n",
       "      <th>Alcohol_Consumption</th>\n",
       "      <th>Fruit_Consumption</th>\n",
       "      <th>Green_Vegetables_Consumption</th>\n",
       "      <th>FriedPotato_Consumption</th>\n",
       "    </tr>\n",
       "  </thead>\n",
       "  <tbody>\n",
       "    <tr>\n",
       "      <th>count</th>\n",
       "      <td>308854.000000</td>\n",
       "      <td>308854.000000</td>\n",
       "      <td>308854.000000</td>\n",
       "      <td>308854.000000</td>\n",
       "      <td>308854.000000</td>\n",
       "      <td>308854.000000</td>\n",
       "      <td>308854.000000</td>\n",
       "    </tr>\n",
       "    <tr>\n",
       "      <th>mean</th>\n",
       "      <td>170.615249</td>\n",
       "      <td>83.588655</td>\n",
       "      <td>28.626211</td>\n",
       "      <td>5.096366</td>\n",
       "      <td>29.835200</td>\n",
       "      <td>15.110441</td>\n",
       "      <td>6.296616</td>\n",
       "    </tr>\n",
       "    <tr>\n",
       "      <th>std</th>\n",
       "      <td>10.658026</td>\n",
       "      <td>21.343210</td>\n",
       "      <td>6.522323</td>\n",
       "      <td>8.199763</td>\n",
       "      <td>24.875735</td>\n",
       "      <td>14.926238</td>\n",
       "      <td>8.582954</td>\n",
       "    </tr>\n",
       "    <tr>\n",
       "      <th>min</th>\n",
       "      <td>91.000000</td>\n",
       "      <td>24.950000</td>\n",
       "      <td>12.020000</td>\n",
       "      <td>0.000000</td>\n",
       "      <td>0.000000</td>\n",
       "      <td>0.000000</td>\n",
       "      <td>0.000000</td>\n",
       "    </tr>\n",
       "    <tr>\n",
       "      <th>25%</th>\n",
       "      <td>163.000000</td>\n",
       "      <td>68.040000</td>\n",
       "      <td>24.210000</td>\n",
       "      <td>0.000000</td>\n",
       "      <td>12.000000</td>\n",
       "      <td>4.000000</td>\n",
       "      <td>2.000000</td>\n",
       "    </tr>\n",
       "    <tr>\n",
       "      <th>50%</th>\n",
       "      <td>170.000000</td>\n",
       "      <td>81.650000</td>\n",
       "      <td>27.440000</td>\n",
       "      <td>1.000000</td>\n",
       "      <td>30.000000</td>\n",
       "      <td>12.000000</td>\n",
       "      <td>4.000000</td>\n",
       "    </tr>\n",
       "    <tr>\n",
       "      <th>75%</th>\n",
       "      <td>178.000000</td>\n",
       "      <td>95.250000</td>\n",
       "      <td>31.850000</td>\n",
       "      <td>6.000000</td>\n",
       "      <td>30.000000</td>\n",
       "      <td>20.000000</td>\n",
       "      <td>8.000000</td>\n",
       "    </tr>\n",
       "    <tr>\n",
       "      <th>max</th>\n",
       "      <td>241.000000</td>\n",
       "      <td>293.020000</td>\n",
       "      <td>99.330000</td>\n",
       "      <td>30.000000</td>\n",
       "      <td>120.000000</td>\n",
       "      <td>128.000000</td>\n",
       "      <td>128.000000</td>\n",
       "    </tr>\n",
       "  </tbody>\n",
       "</table>\n",
       "</div>"
      ],
      "text/plain": [
       "         Height_(cm)    Weight_(kg)            BMI  Alcohol_Consumption  \\\n",
       "count  308854.000000  308854.000000  308854.000000        308854.000000   \n",
       "mean      170.615249      83.588655      28.626211             5.096366   \n",
       "std        10.658026      21.343210       6.522323             8.199763   \n",
       "min        91.000000      24.950000      12.020000             0.000000   \n",
       "25%       163.000000      68.040000      24.210000             0.000000   \n",
       "50%       170.000000      81.650000      27.440000             1.000000   \n",
       "75%       178.000000      95.250000      31.850000             6.000000   \n",
       "max       241.000000     293.020000      99.330000            30.000000   \n",
       "\n",
       "       Fruit_Consumption  Green_Vegetables_Consumption  \\\n",
       "count      308854.000000                 308854.000000   \n",
       "mean           29.835200                     15.110441   \n",
       "std            24.875735                     14.926238   \n",
       "min             0.000000                      0.000000   \n",
       "25%            12.000000                      4.000000   \n",
       "50%            30.000000                     12.000000   \n",
       "75%            30.000000                     20.000000   \n",
       "max           120.000000                    128.000000   \n",
       "\n",
       "       FriedPotato_Consumption  \n",
       "count            308854.000000  \n",
       "mean                  6.296616  \n",
       "std                   8.582954  \n",
       "min                   0.000000  \n",
       "25%                   2.000000  \n",
       "50%                   4.000000  \n",
       "75%                   8.000000  \n",
       "max                 128.000000  "
      ]
     },
     "execution_count": 7,
     "metadata": {},
     "output_type": "execute_result"
    }
   ],
   "source": [
    "df.describe()"
   ]
  },
  {
   "cell_type": "markdown",
   "id": "87ba1a1e-f4ef-4444-9d30-3ab0b193af08",
   "metadata": {},
   "source": [
    "## Build pipeline"
   ]
  },
  {
   "cell_type": "code",
   "execution_count": 33,
   "id": "a7feeb6c-6e77-4d87-a64a-f45ab26f4395",
   "metadata": {
    "tags": []
   },
   "outputs": [],
   "source": [
    "df_cleaned = df.copy()\n",
    "\n",
    "target = df_cleaned.pop(\"Heart_Disease\")\n",
    "target = target.map({\"Yes\": 1, \"No\": 0})"
   ]
  },
  {
   "cell_type": "code",
   "execution_count": null,
   "id": "da030ab9-dbe5-4e0d-85f8-ac8e54297d15",
   "metadata": {
    "tags": []
   },
   "outputs": [],
   "source": []
  },
  {
   "cell_type": "code",
   "execution_count": 34,
   "id": "b5dc7840-1c20-4e2f-a1aa-a6dc819b27e3",
   "metadata": {
    "tags": []
   },
   "outputs": [],
   "source": [
    "from sklearn.pipeline import Pipeline\n",
    "from sklearn.preprocessing import OneHotEncoder, StandardScaler, OrdinalEncoder\n",
    "from sklearn.linear_model import SGDClassifier"
   ]
  },
  {
   "cell_type": "code",
   "execution_count": 52,
   "id": "0ab14319-47ed-4456-82ce-6ea0a279ff42",
   "metadata": {
    "tags": []
   },
   "outputs": [],
   "source": [
    "num_transformer = Pipeline(steps=[(\"num_scaler\", StandardScaler())])\n",
    "cat_transformer = Pipeline(steps=[(\"cat_encoder\", OneHotEncoder())])\n",
    "age_ord_transformer = Pipeline(steps=[(\"age_encoder\", OrdinalEncoder())])\n",
    "health_ord_transformer = Pipeline(steps=[(\"health_encoder\", OrdinalEncoder())])\n",
    "checkup_ord_transformer = Pipeline(steps=[(\"checkup_encoder\", OrdinalEncoder())])"
   ]
  },
  {
   "cell_type": "code",
   "execution_count": 53,
   "id": "6bdc55bd-be43-423f-b648-67ad3f49289d",
   "metadata": {
    "tags": []
   },
   "outputs": [],
   "source": [
    "ord_cols = [\"Age_Category\", \"General_Health\", \"Checkup\"]\n",
    "num_cols = df_cleaned.select_dtypes(np.number).columns.to_list()\n",
    "cat_cols = list(set(df_cleaned.columns).difference(num_cols + ord_cols))"
   ]
  },
  {
   "cell_type": "code",
   "execution_count": 54,
   "id": "e48baf1b-f295-4cd8-9627-eeedf4fe2847",
   "metadata": {
    "tags": []
   },
   "outputs": [],
   "source": [
    "from sklearn.compose import ColumnTransformer"
   ]
  },
  {
   "cell_type": "code",
   "execution_count": 55,
   "id": "19d890c2-29ba-4153-a917-0604ddf51565",
   "metadata": {
    "tags": []
   },
   "outputs": [],
   "source": [
    "preprocessor = ColumnTransformer(\n",
    "    transformers=[(\"num_transformer\", num_transformer, num_cols),\n",
    "                  (\"cat_transformer\", cat_transformer, cat_cols),\n",
    "                  (\"age_ord_transformer\", age_ord_transformer, [\"Age_Category\"]),\n",
    "                  (\"health_ord_transformer\", health_ord_transformer, [\"General_Health\"]),\n",
    "                  (\"checkup_ord_transformer\", checkup_ord_transformer, [\"Checkup\"]),\n",
    "                 ]\n",
    ")"
   ]
  },
  {
   "cell_type": "code",
   "execution_count": 56,
   "id": "2259e3fc-ef5c-40f8-a0b4-83352c70e0c2",
   "metadata": {
    "tags": []
   },
   "outputs": [],
   "source": [
    "sgd_pipe = Pipeline(steps=[(\"preprocessor\", preprocessor),\n",
    "                           (\"sgd\", SGDClassifier())])"
   ]
  },
  {
   "cell_type": "code",
   "execution_count": 57,
   "id": "eb9e87ca-2d48-4932-b7f4-d9ff2d956afd",
   "metadata": {
    "collapsed": true,
    "jupyter": {
     "outputs_hidden": true
    },
    "tags": []
   },
   "outputs": [
    {
     "data": {
      "text/plain": [
       "\u001b[0;31mInit signature:\u001b[0m \u001b[0mPipeline\u001b[0m\u001b[0;34m(\u001b[0m\u001b[0msteps\u001b[0m\u001b[0;34m,\u001b[0m \u001b[0;34m*\u001b[0m\u001b[0;34m,\u001b[0m \u001b[0mmemory\u001b[0m\u001b[0;34m=\u001b[0m\u001b[0;32mNone\u001b[0m\u001b[0;34m,\u001b[0m \u001b[0mverbose\u001b[0m\u001b[0;34m=\u001b[0m\u001b[0;32mFalse\u001b[0m\u001b[0;34m)\u001b[0m\u001b[0;34m\u001b[0m\u001b[0;34m\u001b[0m\u001b[0m\n",
       "\u001b[0;31mDocstring:\u001b[0m     \n",
       "Pipeline of transforms with a final estimator.\n",
       "\n",
       "Sequentially apply a list of transforms and a final estimator.\n",
       "Intermediate steps of the pipeline must be 'transforms', that is, they\n",
       "must implement `fit` and `transform` methods.\n",
       "The final estimator only needs to implement `fit`.\n",
       "The transformers in the pipeline can be cached using ``memory`` argument.\n",
       "\n",
       "The purpose of the pipeline is to assemble several steps that can be\n",
       "cross-validated together while setting different parameters. For this, it\n",
       "enables setting parameters of the various steps using their names and the\n",
       "parameter name separated by a `'__'`, as in the example below. A step's\n",
       "estimator may be replaced entirely by setting the parameter with its name\n",
       "to another estimator, or a transformer removed by setting it to\n",
       "`'passthrough'` or `None`.\n",
       "\n",
       "Read more in the :ref:`User Guide <pipeline>`.\n",
       "\n",
       ".. versionadded:: 0.5\n",
       "\n",
       "Parameters\n",
       "----------\n",
       "steps : list of tuple\n",
       "    List of (name, transform) tuples (implementing `fit`/`transform`) that\n",
       "    are chained in sequential order. The last transform must be an\n",
       "    estimator.\n",
       "\n",
       "memory : str or object with the joblib.Memory interface, default=None\n",
       "    Used to cache the fitted transformers of the pipeline. By default,\n",
       "    no caching is performed. If a string is given, it is the path to\n",
       "    the caching directory. Enabling caching triggers a clone of\n",
       "    the transformers before fitting. Therefore, the transformer\n",
       "    instance given to the pipeline cannot be inspected\n",
       "    directly. Use the attribute ``named_steps`` or ``steps`` to\n",
       "    inspect estimators within the pipeline. Caching the\n",
       "    transformers is advantageous when fitting is time consuming.\n",
       "\n",
       "verbose : bool, default=False\n",
       "    If True, the time elapsed while fitting each step will be printed as it\n",
       "    is completed.\n",
       "\n",
       "Attributes\n",
       "----------\n",
       "named_steps : :class:`~sklearn.utils.Bunch`\n",
       "    Dictionary-like object, with the following attributes.\n",
       "    Read-only attribute to access any step parameter by user given name.\n",
       "    Keys are step names and values are steps parameters.\n",
       "\n",
       "classes_ : ndarray of shape (n_classes,)\n",
       "    The classes labels. Only exist if the last step of the pipeline is a\n",
       "    classifier.\n",
       "\n",
       "n_features_in_ : int\n",
       "    Number of features seen during :term:`fit`. Only defined if the\n",
       "    underlying first estimator in `steps` exposes such an attribute\n",
       "    when fit.\n",
       "\n",
       "    .. versionadded:: 0.24\n",
       "\n",
       "feature_names_in_ : ndarray of shape (`n_features_in_`,)\n",
       "    Names of features seen during :term:`fit`. Only defined if the\n",
       "    underlying estimator exposes such an attribute when fit.\n",
       "\n",
       "    .. versionadded:: 1.0\n",
       "\n",
       "See Also\n",
       "--------\n",
       "make_pipeline : Convenience function for simplified pipeline construction.\n",
       "\n",
       "Examples\n",
       "--------\n",
       ">>> from sklearn.svm import SVC\n",
       ">>> from sklearn.preprocessing import StandardScaler\n",
       ">>> from sklearn.datasets import make_classification\n",
       ">>> from sklearn.model_selection import train_test_split\n",
       ">>> from sklearn.pipeline import Pipeline\n",
       ">>> X, y = make_classification(random_state=0)\n",
       ">>> X_train, X_test, y_train, y_test = train_test_split(X, y,\n",
       "...                                                     random_state=0)\n",
       ">>> pipe = Pipeline([('scaler', StandardScaler()), ('svc', SVC())])\n",
       ">>> # The pipeline can be used as any other estimator\n",
       ">>> # and avoids leaking the test set into the train set\n",
       ">>> pipe.fit(X_train, y_train)\n",
       "Pipeline(steps=[('scaler', StandardScaler()), ('svc', SVC())])\n",
       ">>> pipe.score(X_test, y_test)\n",
       "0.88\n",
       "\u001b[0;31mFile:\u001b[0m           ~/Library/Caches/pypoetry/virtualenvs/adv-mla-lab4-333P50J0-py3.9/lib/python3.9/site-packages/sklearn/pipeline.py\n",
       "\u001b[0;31mType:\u001b[0m           ABCMeta\n",
       "\u001b[0;31mSubclasses:\u001b[0m     "
      ]
     },
     "metadata": {},
     "output_type": "display_data"
    }
   ],
   "source": [
    "Pipeline?"
   ]
  },
  {
   "cell_type": "code",
   "execution_count": 61,
   "id": "22e29ea2-fe6a-4d45-93cb-4eab0ed74aa9",
   "metadata": {
    "tags": []
   },
   "outputs": [
    {
     "data": {
      "text/html": [
       "<style>#sk-container-id-2 {color: black;background-color: white;}#sk-container-id-2 pre{padding: 0;}#sk-container-id-2 div.sk-toggleable {background-color: white;}#sk-container-id-2 label.sk-toggleable__label {cursor: pointer;display: block;width: 100%;margin-bottom: 0;padding: 0.3em;box-sizing: border-box;text-align: center;}#sk-container-id-2 label.sk-toggleable__label-arrow:before {content: \"▸\";float: left;margin-right: 0.25em;color: #696969;}#sk-container-id-2 label.sk-toggleable__label-arrow:hover:before {color: black;}#sk-container-id-2 div.sk-estimator:hover label.sk-toggleable__label-arrow:before {color: black;}#sk-container-id-2 div.sk-toggleable__content {max-height: 0;max-width: 0;overflow: hidden;text-align: left;background-color: #f0f8ff;}#sk-container-id-2 div.sk-toggleable__content pre {margin: 0.2em;color: black;border-radius: 0.25em;background-color: #f0f8ff;}#sk-container-id-2 input.sk-toggleable__control:checked~div.sk-toggleable__content {max-height: 200px;max-width: 100%;overflow: auto;}#sk-container-id-2 input.sk-toggleable__control:checked~label.sk-toggleable__label-arrow:before {content: \"▾\";}#sk-container-id-2 div.sk-estimator input.sk-toggleable__control:checked~label.sk-toggleable__label {background-color: #d4ebff;}#sk-container-id-2 div.sk-label input.sk-toggleable__control:checked~label.sk-toggleable__label {background-color: #d4ebff;}#sk-container-id-2 input.sk-hidden--visually {border: 0;clip: rect(1px 1px 1px 1px);clip: rect(1px, 1px, 1px, 1px);height: 1px;margin: -1px;overflow: hidden;padding: 0;position: absolute;width: 1px;}#sk-container-id-2 div.sk-estimator {font-family: monospace;background-color: #f0f8ff;border: 1px dotted black;border-radius: 0.25em;box-sizing: border-box;margin-bottom: 0.5em;}#sk-container-id-2 div.sk-estimator:hover {background-color: #d4ebff;}#sk-container-id-2 div.sk-parallel-item::after {content: \"\";width: 100%;border-bottom: 1px solid gray;flex-grow: 1;}#sk-container-id-2 div.sk-label:hover label.sk-toggleable__label {background-color: #d4ebff;}#sk-container-id-2 div.sk-serial::before {content: \"\";position: absolute;border-left: 1px solid gray;box-sizing: border-box;top: 0;bottom: 0;left: 50%;z-index: 0;}#sk-container-id-2 div.sk-serial {display: flex;flex-direction: column;align-items: center;background-color: white;padding-right: 0.2em;padding-left: 0.2em;position: relative;}#sk-container-id-2 div.sk-item {position: relative;z-index: 1;}#sk-container-id-2 div.sk-parallel {display: flex;align-items: stretch;justify-content: center;background-color: white;position: relative;}#sk-container-id-2 div.sk-item::before, #sk-container-id-2 div.sk-parallel-item::before {content: \"\";position: absolute;border-left: 1px solid gray;box-sizing: border-box;top: 0;bottom: 0;left: 50%;z-index: -1;}#sk-container-id-2 div.sk-parallel-item {display: flex;flex-direction: column;z-index: 1;position: relative;background-color: white;}#sk-container-id-2 div.sk-parallel-item:first-child::after {align-self: flex-end;width: 50%;}#sk-container-id-2 div.sk-parallel-item:last-child::after {align-self: flex-start;width: 50%;}#sk-container-id-2 div.sk-parallel-item:only-child::after {width: 0;}#sk-container-id-2 div.sk-dashed-wrapped {border: 1px dashed gray;margin: 0 0.4em 0.5em 0.4em;box-sizing: border-box;padding-bottom: 0.4em;background-color: white;}#sk-container-id-2 div.sk-label label {font-family: monospace;font-weight: bold;display: inline-block;line-height: 1.2em;}#sk-container-id-2 div.sk-label-container {text-align: center;}#sk-container-id-2 div.sk-container {/* jupyter's `normalize.less` sets `[hidden] { display: none; }` but bootstrap.min.css set `[hidden] { display: none !important; }` so we also need the `!important` here to be able to override the default hidden behavior on the sphinx rendered scikit-learn.org. See: https://github.com/scikit-learn/scikit-learn/issues/21755 */display: inline-block !important;position: relative;}#sk-container-id-2 div.sk-text-repr-fallback {display: none;}</style><div id=\"sk-container-id-2\" class=\"sk-top-container\"><div class=\"sk-text-repr-fallback\"><pre>Pipeline(steps=[(&#x27;preprocessor&#x27;,\n",
       "                 ColumnTransformer(transformers=[(&#x27;num_transformer&#x27;,\n",
       "                                                  Pipeline(steps=[(&#x27;num_scaler&#x27;,\n",
       "                                                                   StandardScaler())]),\n",
       "                                                  [&#x27;Height_(cm)&#x27;, &#x27;Weight_(kg)&#x27;,\n",
       "                                                   &#x27;BMI&#x27;, &#x27;Alcohol_Consumption&#x27;,\n",
       "                                                   &#x27;Fruit_Consumption&#x27;,\n",
       "                                                   &#x27;Green_Vegetables_Consumption&#x27;,\n",
       "                                                   &#x27;FriedPotato_Consumption&#x27;]),\n",
       "                                                 (&#x27;cat_transformer&#x27;,\n",
       "                                                  Pipeline(steps=[(&#x27;cat_encoder&#x27;,\n",
       "                                                                   OneHotEncoder())]),\n",
       "                                                  [&#x27;Skin_Cance...\n",
       "                                                   &#x27;Smoking_History&#x27;,\n",
       "                                                   &#x27;Arthritis&#x27;, &#x27;Sex&#x27;]),\n",
       "                                                 (&#x27;age_ord_transformer&#x27;,\n",
       "                                                  Pipeline(steps=[(&#x27;age_encoder&#x27;,\n",
       "                                                                   OrdinalEncoder())]),\n",
       "                                                  [&#x27;Age_Category&#x27;]),\n",
       "                                                 (&#x27;health_ord_transformer&#x27;,\n",
       "                                                  Pipeline(steps=[(&#x27;health_encoder&#x27;,\n",
       "                                                                   OrdinalEncoder())]),\n",
       "                                                  [&#x27;General_Health&#x27;]),\n",
       "                                                 (&#x27;checkup_ord_transformer&#x27;,\n",
       "                                                  Pipeline(steps=[(&#x27;checkup_encoder&#x27;,\n",
       "                                                                   OrdinalEncoder())]),\n",
       "                                                  [&#x27;Checkup&#x27;])])),\n",
       "                (&#x27;sgd&#x27;, SGDClassifier())])</pre><b>In a Jupyter environment, please rerun this cell to show the HTML representation or trust the notebook. <br />On GitHub, the HTML representation is unable to render, please try loading this page with nbviewer.org.</b></div><div class=\"sk-container\" hidden><div class=\"sk-item sk-dashed-wrapped\"><div class=\"sk-label-container\"><div class=\"sk-label sk-toggleable\"><input class=\"sk-toggleable__control sk-hidden--visually\" id=\"sk-estimator-id-14\" type=\"checkbox\" ><label for=\"sk-estimator-id-14\" class=\"sk-toggleable__label sk-toggleable__label-arrow\">Pipeline</label><div class=\"sk-toggleable__content\"><pre>Pipeline(steps=[(&#x27;preprocessor&#x27;,\n",
       "                 ColumnTransformer(transformers=[(&#x27;num_transformer&#x27;,\n",
       "                                                  Pipeline(steps=[(&#x27;num_scaler&#x27;,\n",
       "                                                                   StandardScaler())]),\n",
       "                                                  [&#x27;Height_(cm)&#x27;, &#x27;Weight_(kg)&#x27;,\n",
       "                                                   &#x27;BMI&#x27;, &#x27;Alcohol_Consumption&#x27;,\n",
       "                                                   &#x27;Fruit_Consumption&#x27;,\n",
       "                                                   &#x27;Green_Vegetables_Consumption&#x27;,\n",
       "                                                   &#x27;FriedPotato_Consumption&#x27;]),\n",
       "                                                 (&#x27;cat_transformer&#x27;,\n",
       "                                                  Pipeline(steps=[(&#x27;cat_encoder&#x27;,\n",
       "                                                                   OneHotEncoder())]),\n",
       "                                                  [&#x27;Skin_Cance...\n",
       "                                                   &#x27;Smoking_History&#x27;,\n",
       "                                                   &#x27;Arthritis&#x27;, &#x27;Sex&#x27;]),\n",
       "                                                 (&#x27;age_ord_transformer&#x27;,\n",
       "                                                  Pipeline(steps=[(&#x27;age_encoder&#x27;,\n",
       "                                                                   OrdinalEncoder())]),\n",
       "                                                  [&#x27;Age_Category&#x27;]),\n",
       "                                                 (&#x27;health_ord_transformer&#x27;,\n",
       "                                                  Pipeline(steps=[(&#x27;health_encoder&#x27;,\n",
       "                                                                   OrdinalEncoder())]),\n",
       "                                                  [&#x27;General_Health&#x27;]),\n",
       "                                                 (&#x27;checkup_ord_transformer&#x27;,\n",
       "                                                  Pipeline(steps=[(&#x27;checkup_encoder&#x27;,\n",
       "                                                                   OrdinalEncoder())]),\n",
       "                                                  [&#x27;Checkup&#x27;])])),\n",
       "                (&#x27;sgd&#x27;, SGDClassifier())])</pre></div></div></div><div class=\"sk-serial\"><div class=\"sk-item sk-dashed-wrapped\"><div class=\"sk-label-container\"><div class=\"sk-label sk-toggleable\"><input class=\"sk-toggleable__control sk-hidden--visually\" id=\"sk-estimator-id-15\" type=\"checkbox\" ><label for=\"sk-estimator-id-15\" class=\"sk-toggleable__label sk-toggleable__label-arrow\">preprocessor: ColumnTransformer</label><div class=\"sk-toggleable__content\"><pre>ColumnTransformer(transformers=[(&#x27;num_transformer&#x27;,\n",
       "                                 Pipeline(steps=[(&#x27;num_scaler&#x27;,\n",
       "                                                  StandardScaler())]),\n",
       "                                 [&#x27;Height_(cm)&#x27;, &#x27;Weight_(kg)&#x27;, &#x27;BMI&#x27;,\n",
       "                                  &#x27;Alcohol_Consumption&#x27;, &#x27;Fruit_Consumption&#x27;,\n",
       "                                  &#x27;Green_Vegetables_Consumption&#x27;,\n",
       "                                  &#x27;FriedPotato_Consumption&#x27;]),\n",
       "                                (&#x27;cat_transformer&#x27;,\n",
       "                                 Pipeline(steps=[(&#x27;cat_encoder&#x27;,\n",
       "                                                  OneHotEncoder())]),\n",
       "                                 [&#x27;Skin_Cancer&#x27;, &#x27;Diabetes&#x27;, &#x27;Exercise&#x27;,\n",
       "                                  &#x27;Other_Cancer&#x27;, &#x27;Depression&#x27;,\n",
       "                                  &#x27;Smoking_History&#x27;, &#x27;Arthritis&#x27;, &#x27;Sex&#x27;]),\n",
       "                                (&#x27;age_ord_transformer&#x27;,\n",
       "                                 Pipeline(steps=[(&#x27;age_encoder&#x27;,\n",
       "                                                  OrdinalEncoder())]),\n",
       "                                 [&#x27;Age_Category&#x27;]),\n",
       "                                (&#x27;health_ord_transformer&#x27;,\n",
       "                                 Pipeline(steps=[(&#x27;health_encoder&#x27;,\n",
       "                                                  OrdinalEncoder())]),\n",
       "                                 [&#x27;General_Health&#x27;]),\n",
       "                                (&#x27;checkup_ord_transformer&#x27;,\n",
       "                                 Pipeline(steps=[(&#x27;checkup_encoder&#x27;,\n",
       "                                                  OrdinalEncoder())]),\n",
       "                                 [&#x27;Checkup&#x27;])])</pre></div></div></div><div class=\"sk-parallel\"><div class=\"sk-parallel-item\"><div class=\"sk-item\"><div class=\"sk-label-container\"><div class=\"sk-label sk-toggleable\"><input class=\"sk-toggleable__control sk-hidden--visually\" id=\"sk-estimator-id-16\" type=\"checkbox\" ><label for=\"sk-estimator-id-16\" class=\"sk-toggleable__label sk-toggleable__label-arrow\">num_transformer</label><div class=\"sk-toggleable__content\"><pre>[&#x27;Height_(cm)&#x27;, &#x27;Weight_(kg)&#x27;, &#x27;BMI&#x27;, &#x27;Alcohol_Consumption&#x27;, &#x27;Fruit_Consumption&#x27;, &#x27;Green_Vegetables_Consumption&#x27;, &#x27;FriedPotato_Consumption&#x27;]</pre></div></div></div><div class=\"sk-serial\"><div class=\"sk-item\"><div class=\"sk-serial\"><div class=\"sk-item\"><div class=\"sk-estimator sk-toggleable\"><input class=\"sk-toggleable__control sk-hidden--visually\" id=\"sk-estimator-id-17\" type=\"checkbox\" ><label for=\"sk-estimator-id-17\" class=\"sk-toggleable__label sk-toggleable__label-arrow\">StandardScaler</label><div class=\"sk-toggleable__content\"><pre>StandardScaler()</pre></div></div></div></div></div></div></div></div><div class=\"sk-parallel-item\"><div class=\"sk-item\"><div class=\"sk-label-container\"><div class=\"sk-label sk-toggleable\"><input class=\"sk-toggleable__control sk-hidden--visually\" id=\"sk-estimator-id-18\" type=\"checkbox\" ><label for=\"sk-estimator-id-18\" class=\"sk-toggleable__label sk-toggleable__label-arrow\">cat_transformer</label><div class=\"sk-toggleable__content\"><pre>[&#x27;Skin_Cancer&#x27;, &#x27;Diabetes&#x27;, &#x27;Exercise&#x27;, &#x27;Other_Cancer&#x27;, &#x27;Depression&#x27;, &#x27;Smoking_History&#x27;, &#x27;Arthritis&#x27;, &#x27;Sex&#x27;]</pre></div></div></div><div class=\"sk-serial\"><div class=\"sk-item\"><div class=\"sk-serial\"><div class=\"sk-item\"><div class=\"sk-estimator sk-toggleable\"><input class=\"sk-toggleable__control sk-hidden--visually\" id=\"sk-estimator-id-19\" type=\"checkbox\" ><label for=\"sk-estimator-id-19\" class=\"sk-toggleable__label sk-toggleable__label-arrow\">OneHotEncoder</label><div class=\"sk-toggleable__content\"><pre>OneHotEncoder()</pre></div></div></div></div></div></div></div></div><div class=\"sk-parallel-item\"><div class=\"sk-item\"><div class=\"sk-label-container\"><div class=\"sk-label sk-toggleable\"><input class=\"sk-toggleable__control sk-hidden--visually\" id=\"sk-estimator-id-20\" type=\"checkbox\" ><label for=\"sk-estimator-id-20\" class=\"sk-toggleable__label sk-toggleable__label-arrow\">age_ord_transformer</label><div class=\"sk-toggleable__content\"><pre>[&#x27;Age_Category&#x27;]</pre></div></div></div><div class=\"sk-serial\"><div class=\"sk-item\"><div class=\"sk-serial\"><div class=\"sk-item\"><div class=\"sk-estimator sk-toggleable\"><input class=\"sk-toggleable__control sk-hidden--visually\" id=\"sk-estimator-id-21\" type=\"checkbox\" ><label for=\"sk-estimator-id-21\" class=\"sk-toggleable__label sk-toggleable__label-arrow\">OrdinalEncoder</label><div class=\"sk-toggleable__content\"><pre>OrdinalEncoder()</pre></div></div></div></div></div></div></div></div><div class=\"sk-parallel-item\"><div class=\"sk-item\"><div class=\"sk-label-container\"><div class=\"sk-label sk-toggleable\"><input class=\"sk-toggleable__control sk-hidden--visually\" id=\"sk-estimator-id-22\" type=\"checkbox\" ><label for=\"sk-estimator-id-22\" class=\"sk-toggleable__label sk-toggleable__label-arrow\">health_ord_transformer</label><div class=\"sk-toggleable__content\"><pre>[&#x27;General_Health&#x27;]</pre></div></div></div><div class=\"sk-serial\"><div class=\"sk-item\"><div class=\"sk-serial\"><div class=\"sk-item\"><div class=\"sk-estimator sk-toggleable\"><input class=\"sk-toggleable__control sk-hidden--visually\" id=\"sk-estimator-id-23\" type=\"checkbox\" ><label for=\"sk-estimator-id-23\" class=\"sk-toggleable__label sk-toggleable__label-arrow\">OrdinalEncoder</label><div class=\"sk-toggleable__content\"><pre>OrdinalEncoder()</pre></div></div></div></div></div></div></div></div><div class=\"sk-parallel-item\"><div class=\"sk-item\"><div class=\"sk-label-container\"><div class=\"sk-label sk-toggleable\"><input class=\"sk-toggleable__control sk-hidden--visually\" id=\"sk-estimator-id-24\" type=\"checkbox\" ><label for=\"sk-estimator-id-24\" class=\"sk-toggleable__label sk-toggleable__label-arrow\">checkup_ord_transformer</label><div class=\"sk-toggleable__content\"><pre>[&#x27;Checkup&#x27;]</pre></div></div></div><div class=\"sk-serial\"><div class=\"sk-item\"><div class=\"sk-serial\"><div class=\"sk-item\"><div class=\"sk-estimator sk-toggleable\"><input class=\"sk-toggleable__control sk-hidden--visually\" id=\"sk-estimator-id-25\" type=\"checkbox\" ><label for=\"sk-estimator-id-25\" class=\"sk-toggleable__label sk-toggleable__label-arrow\">OrdinalEncoder</label><div class=\"sk-toggleable__content\"><pre>OrdinalEncoder()</pre></div></div></div></div></div></div></div></div></div></div><div class=\"sk-item\"><div class=\"sk-estimator sk-toggleable\"><input class=\"sk-toggleable__control sk-hidden--visually\" id=\"sk-estimator-id-26\" type=\"checkbox\" ><label for=\"sk-estimator-id-26\" class=\"sk-toggleable__label sk-toggleable__label-arrow\">SGDClassifier</label><div class=\"sk-toggleable__content\"><pre>SGDClassifier()</pre></div></div></div></div></div></div></div>"
      ],
      "text/plain": [
       "Pipeline(steps=[('preprocessor',\n",
       "                 ColumnTransformer(transformers=[('num_transformer',\n",
       "                                                  Pipeline(steps=[('num_scaler',\n",
       "                                                                   StandardScaler())]),\n",
       "                                                  ['Height_(cm)', 'Weight_(kg)',\n",
       "                                                   'BMI', 'Alcohol_Consumption',\n",
       "                                                   'Fruit_Consumption',\n",
       "                                                   'Green_Vegetables_Consumption',\n",
       "                                                   'FriedPotato_Consumption']),\n",
       "                                                 ('cat_transformer',\n",
       "                                                  Pipeline(steps=[('cat_encoder',\n",
       "                                                                   OneHotEncoder())]),\n",
       "                                                  ['Skin_Cance...\n",
       "                                                   'Smoking_History',\n",
       "                                                   'Arthritis', 'Sex']),\n",
       "                                                 ('age_ord_transformer',\n",
       "                                                  Pipeline(steps=[('age_encoder',\n",
       "                                                                   OrdinalEncoder())]),\n",
       "                                                  ['Age_Category']),\n",
       "                                                 ('health_ord_transformer',\n",
       "                                                  Pipeline(steps=[('health_encoder',\n",
       "                                                                   OrdinalEncoder())]),\n",
       "                                                  ['General_Health']),\n",
       "                                                 ('checkup_ord_transformer',\n",
       "                                                  Pipeline(steps=[('checkup_encoder',\n",
       "                                                                   OrdinalEncoder())]),\n",
       "                                                  ['Checkup'])])),\n",
       "                ('sgd', SGDClassifier())])"
      ]
     },
     "execution_count": 61,
     "metadata": {},
     "output_type": "execute_result"
    }
   ],
   "source": [
    "sgd_pipe.fit(df_cleaned, target)"
   ]
  },
  {
   "cell_type": "code",
   "execution_count": 62,
   "id": "21c49e39-bda8-4d67-81f4-3911616e1ff3",
   "metadata": {
    "tags": []
   },
   "outputs": [
    {
     "data": {
      "text/plain": [
       "array([0, 0, 0, ..., 0, 0, 0])"
      ]
     },
     "execution_count": 62,
     "metadata": {},
     "output_type": "execute_result"
    }
   ],
   "source": [
    "sgd_pipe.predict(df_cleaned)"
   ]
  },
  {
   "cell_type": "code",
   "execution_count": 80,
   "id": "28196bf5-5b79-46ce-9850-8934d6af7256",
   "metadata": {
    "tags": []
   },
   "outputs": [
    {
     "data": {
      "text/plain": [
       "array([0])"
      ]
     },
     "execution_count": 80,
     "metadata": {},
     "output_type": "execute_result"
    }
   ],
   "source": [
    "obs = df_cleaned.iloc[0, :].to_frame().transpose()\n",
    "sgd_pipe.predict(obs)"
   ]
  },
  {
   "cell_type": "code",
   "execution_count": 82,
   "id": "a343ce19-9485-4e5f-9edc-41f97e0b1b3b",
   "metadata": {
    "tags": []
   },
   "outputs": [
    {
     "data": {
      "text/plain": [
       "['../models/sgd_pipe.joblib']"
      ]
     },
     "execution_count": 82,
     "metadata": {},
     "output_type": "execute_result"
    }
   ],
   "source": [
    "import joblib\n",
    "\n",
    "joblib.dump(sgd_pipe, \"../models/sgd_pipe.joblib\")"
   ]
  },
  {
   "cell_type": "code",
   "execution_count": null,
   "id": "f8ea4b3e-512e-4bc8-a067-f0743b9cb181",
   "metadata": {},
   "outputs": [],
   "source": []
  }
 ],
 "metadata": {
  "kernelspec": {
   "display_name": "Python 3 (ipykernel)",
   "language": "python",
   "name": "python3"
  },
  "language_info": {
   "codemirror_mode": {
    "name": "ipython",
    "version": 3
   },
   "file_extension": ".py",
   "mimetype": "text/x-python",
   "name": "python",
   "nbconvert_exporter": "python",
   "pygments_lexer": "ipython3",
   "version": "3.9.13"
  }
 },
 "nbformat": 4,
 "nbformat_minor": 5
}
