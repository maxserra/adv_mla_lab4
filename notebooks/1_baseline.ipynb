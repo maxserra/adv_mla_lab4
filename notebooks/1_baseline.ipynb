{
 "cells": [
  {
   "cell_type": "code",
   "execution_count": null,
   "id": "ac7be307-1303-43ec-a0d3-cc4ec020702a",
   "metadata": {},
   "outputs": [],
   "source": []
  },
  {
   "cell_type": "code",
   "execution_count": 33,
   "id": "ad5de732-334d-4274-9eab-479a3241c899",
   "metadata": {
    "tags": []
   },
   "outputs": [
    {
     "name": "stdout",
     "output_type": "stream",
     "text": [
      "The autoreload extension is already loaded. To reload it, use:\n",
      "  %reload_ext autoreload\n",
      "Looking in indexes: https://test.pypi.org/simple/\n",
      "Collecting my-krml-24925125==0.1.9\n",
      "  Downloading https://test-files.pythonhosted.org/packages/e2/43/5452cc68b7d2e4d57c5893c13cef618ab92e2d3aa60b844c9b30e4ba0e89/my_krml_24925125-0.1.9-py3-none-any.whl (6.8 kB)\n",
      "Requirement already satisfied: pandas==2.0.3 in /Users/maxserra/Library/Caches/pypoetry/virtualenvs/adv-mla-lab4-333P50J0-py3.9/lib/python3.9/site-packages (from my-krml-24925125==0.1.9) (2.0.3)\n",
      "Requirement already satisfied: scikit-learn==1.2.2 in /Users/maxserra/Library/Caches/pypoetry/virtualenvs/adv-mla-lab4-333P50J0-py3.9/lib/python3.9/site-packages (from my-krml-24925125==0.1.9) (1.2.2)\n",
      "Requirement already satisfied: python-dateutil>=2.8.2 in /Users/maxserra/Library/Caches/pypoetry/virtualenvs/adv-mla-lab4-333P50J0-py3.9/lib/python3.9/site-packages (from pandas==2.0.3->my-krml-24925125==0.1.9) (2.8.2)\n",
      "Requirement already satisfied: pytz>=2020.1 in /Users/maxserra/Library/Caches/pypoetry/virtualenvs/adv-mla-lab4-333P50J0-py3.9/lib/python3.9/site-packages (from pandas==2.0.3->my-krml-24925125==0.1.9) (2023.3.post1)\n",
      "Requirement already satisfied: tzdata>=2022.1 in /Users/maxserra/Library/Caches/pypoetry/virtualenvs/adv-mla-lab4-333P50J0-py3.9/lib/python3.9/site-packages (from pandas==2.0.3->my-krml-24925125==0.1.9) (2023.3)\n",
      "Requirement already satisfied: numpy>=1.20.3 in /Users/maxserra/Library/Caches/pypoetry/virtualenvs/adv-mla-lab4-333P50J0-py3.9/lib/python3.9/site-packages (from pandas==2.0.3->my-krml-24925125==0.1.9) (1.25.2)\n",
      "Requirement already satisfied: scipy>=1.3.2 in /Users/maxserra/Library/Caches/pypoetry/virtualenvs/adv-mla-lab4-333P50J0-py3.9/lib/python3.9/site-packages (from scikit-learn==1.2.2->my-krml-24925125==0.1.9) (1.11.2)\n",
      "Requirement already satisfied: joblib>=1.1.1 in /Users/maxserra/Library/Caches/pypoetry/virtualenvs/adv-mla-lab4-333P50J0-py3.9/lib/python3.9/site-packages (from scikit-learn==1.2.2->my-krml-24925125==0.1.9) (1.3.2)\n",
      "Requirement already satisfied: threadpoolctl>=2.0.0 in /Users/maxserra/Library/Caches/pypoetry/virtualenvs/adv-mla-lab4-333P50J0-py3.9/lib/python3.9/site-packages (from scikit-learn==1.2.2->my-krml-24925125==0.1.9) (3.2.0)\n",
      "Requirement already satisfied: six>=1.5 in /Users/maxserra/Library/Caches/pypoetry/virtualenvs/adv-mla-lab4-333P50J0-py3.9/lib/python3.9/site-packages (from python-dateutil>=2.8.2->pandas==2.0.3->my-krml-24925125==0.1.9) (1.16.0)\n",
      "Installing collected packages: my-krml-24925125\n",
      "  Attempting uninstall: my-krml-24925125\n",
      "    Found existing installation: my-krml-24925125 0.1.8\n",
      "    Uninstalling my-krml-24925125-0.1.8:\n",
      "      Successfully uninstalled my-krml-24925125-0.1.8\n",
      "Successfully installed my-krml-24925125-0.1.9\n"
     ]
    }
   ],
   "source": [
    "%load_ext autoreload\n",
    "%autoreload 2\n",
    "\n",
    "! pip install -i https://test.pypi.org/simple/ my-krml-24925125==0.1.9"
   ]
  },
  {
   "cell_type": "markdown",
   "id": "14db945d-ed49-4cf3-b6b2-dda7438f2855",
   "metadata": {},
   "source": [
    "## Data loading and exploration"
   ]
  },
  {
   "cell_type": "code",
   "execution_count": 2,
   "id": "6dcfd60d-e34c-4ad9-b51e-e26a957bafd5",
   "metadata": {},
   "outputs": [],
   "source": [
    "import pandas as pd\n",
    "import numpy as np"
   ]
  },
  {
   "cell_type": "code",
   "execution_count": 3,
   "id": "5c82565b-80fe-42b2-afc7-3922d09a7807",
   "metadata": {
    "tags": []
   },
   "outputs": [],
   "source": [
    "df = pd.read_csv(\"../data/raw/CVD_cleaned.csv\")"
   ]
  },
  {
   "cell_type": "code",
   "execution_count": 4,
   "id": "c163c346-edc4-4f89-927e-14b674e96094",
   "metadata": {
    "tags": []
   },
   "outputs": [
    {
     "data": {
      "text/html": [
       "<div>\n",
       "<style scoped>\n",
       "    .dataframe tbody tr th:only-of-type {\n",
       "        vertical-align: middle;\n",
       "    }\n",
       "\n",
       "    .dataframe tbody tr th {\n",
       "        vertical-align: top;\n",
       "    }\n",
       "\n",
       "    .dataframe thead th {\n",
       "        text-align: right;\n",
       "    }\n",
       "</style>\n",
       "<table border=\"1\" class=\"dataframe\">\n",
       "  <thead>\n",
       "    <tr style=\"text-align: right;\">\n",
       "      <th></th>\n",
       "      <th>General_Health</th>\n",
       "      <th>Checkup</th>\n",
       "      <th>Exercise</th>\n",
       "      <th>Heart_Disease</th>\n",
       "      <th>Skin_Cancer</th>\n",
       "      <th>Other_Cancer</th>\n",
       "      <th>Depression</th>\n",
       "      <th>Diabetes</th>\n",
       "      <th>Arthritis</th>\n",
       "      <th>Sex</th>\n",
       "      <th>Age_Category</th>\n",
       "      <th>Height_(cm)</th>\n",
       "      <th>Weight_(kg)</th>\n",
       "      <th>BMI</th>\n",
       "      <th>Smoking_History</th>\n",
       "      <th>Alcohol_Consumption</th>\n",
       "      <th>Fruit_Consumption</th>\n",
       "      <th>Green_Vegetables_Consumption</th>\n",
       "      <th>FriedPotato_Consumption</th>\n",
       "    </tr>\n",
       "  </thead>\n",
       "  <tbody>\n",
       "    <tr>\n",
       "      <th>0</th>\n",
       "      <td>Poor</td>\n",
       "      <td>Within the past 2 years</td>\n",
       "      <td>No</td>\n",
       "      <td>No</td>\n",
       "      <td>No</td>\n",
       "      <td>No</td>\n",
       "      <td>No</td>\n",
       "      <td>No</td>\n",
       "      <td>Yes</td>\n",
       "      <td>Female</td>\n",
       "      <td>70-74</td>\n",
       "      <td>150.0</td>\n",
       "      <td>32.66</td>\n",
       "      <td>14.54</td>\n",
       "      <td>Yes</td>\n",
       "      <td>0.0</td>\n",
       "      <td>30.0</td>\n",
       "      <td>16.0</td>\n",
       "      <td>12.0</td>\n",
       "    </tr>\n",
       "    <tr>\n",
       "      <th>1</th>\n",
       "      <td>Very Good</td>\n",
       "      <td>Within the past year</td>\n",
       "      <td>No</td>\n",
       "      <td>Yes</td>\n",
       "      <td>No</td>\n",
       "      <td>No</td>\n",
       "      <td>No</td>\n",
       "      <td>Yes</td>\n",
       "      <td>No</td>\n",
       "      <td>Female</td>\n",
       "      <td>70-74</td>\n",
       "      <td>165.0</td>\n",
       "      <td>77.11</td>\n",
       "      <td>28.29</td>\n",
       "      <td>No</td>\n",
       "      <td>0.0</td>\n",
       "      <td>30.0</td>\n",
       "      <td>0.0</td>\n",
       "      <td>4.0</td>\n",
       "    </tr>\n",
       "    <tr>\n",
       "      <th>2</th>\n",
       "      <td>Very Good</td>\n",
       "      <td>Within the past year</td>\n",
       "      <td>Yes</td>\n",
       "      <td>No</td>\n",
       "      <td>No</td>\n",
       "      <td>No</td>\n",
       "      <td>No</td>\n",
       "      <td>Yes</td>\n",
       "      <td>No</td>\n",
       "      <td>Female</td>\n",
       "      <td>60-64</td>\n",
       "      <td>163.0</td>\n",
       "      <td>88.45</td>\n",
       "      <td>33.47</td>\n",
       "      <td>No</td>\n",
       "      <td>4.0</td>\n",
       "      <td>12.0</td>\n",
       "      <td>3.0</td>\n",
       "      <td>16.0</td>\n",
       "    </tr>\n",
       "    <tr>\n",
       "      <th>3</th>\n",
       "      <td>Poor</td>\n",
       "      <td>Within the past year</td>\n",
       "      <td>Yes</td>\n",
       "      <td>Yes</td>\n",
       "      <td>No</td>\n",
       "      <td>No</td>\n",
       "      <td>No</td>\n",
       "      <td>Yes</td>\n",
       "      <td>No</td>\n",
       "      <td>Male</td>\n",
       "      <td>75-79</td>\n",
       "      <td>180.0</td>\n",
       "      <td>93.44</td>\n",
       "      <td>28.73</td>\n",
       "      <td>No</td>\n",
       "      <td>0.0</td>\n",
       "      <td>30.0</td>\n",
       "      <td>30.0</td>\n",
       "      <td>8.0</td>\n",
       "    </tr>\n",
       "    <tr>\n",
       "      <th>4</th>\n",
       "      <td>Good</td>\n",
       "      <td>Within the past year</td>\n",
       "      <td>No</td>\n",
       "      <td>No</td>\n",
       "      <td>No</td>\n",
       "      <td>No</td>\n",
       "      <td>No</td>\n",
       "      <td>No</td>\n",
       "      <td>No</td>\n",
       "      <td>Male</td>\n",
       "      <td>80+</td>\n",
       "      <td>191.0</td>\n",
       "      <td>88.45</td>\n",
       "      <td>24.37</td>\n",
       "      <td>Yes</td>\n",
       "      <td>0.0</td>\n",
       "      <td>8.0</td>\n",
       "      <td>4.0</td>\n",
       "      <td>0.0</td>\n",
       "    </tr>\n",
       "  </tbody>\n",
       "</table>\n",
       "</div>"
      ],
      "text/plain": [
       "  General_Health                  Checkup Exercise Heart_Disease Skin_Cancer  \\\n",
       "0           Poor  Within the past 2 years       No            No          No   \n",
       "1      Very Good     Within the past year       No           Yes          No   \n",
       "2      Very Good     Within the past year      Yes            No          No   \n",
       "3           Poor     Within the past year      Yes           Yes          No   \n",
       "4           Good     Within the past year       No            No          No   \n",
       "\n",
       "  Other_Cancer Depression Diabetes Arthritis     Sex Age_Category  \\\n",
       "0           No         No       No       Yes  Female        70-74   \n",
       "1           No         No      Yes        No  Female        70-74   \n",
       "2           No         No      Yes        No  Female        60-64   \n",
       "3           No         No      Yes        No    Male        75-79   \n",
       "4           No         No       No        No    Male          80+   \n",
       "\n",
       "   Height_(cm)  Weight_(kg)    BMI Smoking_History  Alcohol_Consumption  \\\n",
       "0        150.0        32.66  14.54             Yes                  0.0   \n",
       "1        165.0        77.11  28.29              No                  0.0   \n",
       "2        163.0        88.45  33.47              No                  4.0   \n",
       "3        180.0        93.44  28.73              No                  0.0   \n",
       "4        191.0        88.45  24.37             Yes                  0.0   \n",
       "\n",
       "   Fruit_Consumption  Green_Vegetables_Consumption  FriedPotato_Consumption  \n",
       "0               30.0                          16.0                     12.0  \n",
       "1               30.0                           0.0                      4.0  \n",
       "2               12.0                           3.0                     16.0  \n",
       "3               30.0                          30.0                      8.0  \n",
       "4                8.0                           4.0                      0.0  "
      ]
     },
     "execution_count": 4,
     "metadata": {},
     "output_type": "execute_result"
    }
   ],
   "source": [
    "df.head(5)"
   ]
  },
  {
   "cell_type": "code",
   "execution_count": 5,
   "id": "78984bc6-0fe7-485a-bb29-d624806d381a",
   "metadata": {
    "tags": []
   },
   "outputs": [
    {
     "data": {
      "text/plain": [
       "(308854, 19)"
      ]
     },
     "execution_count": 5,
     "metadata": {},
     "output_type": "execute_result"
    }
   ],
   "source": [
    "df.shape"
   ]
  },
  {
   "cell_type": "code",
   "execution_count": 6,
   "id": "5fd4133b-eeae-481a-a29e-e5ce967b38ba",
   "metadata": {
    "tags": []
   },
   "outputs": [
    {
     "name": "stdout",
     "output_type": "stream",
     "text": [
      "<class 'pandas.core.frame.DataFrame'>\n",
      "RangeIndex: 308854 entries, 0 to 308853\n",
      "Data columns (total 19 columns):\n",
      " #   Column                        Non-Null Count   Dtype  \n",
      "---  ------                        --------------   -----  \n",
      " 0   General_Health                308854 non-null  object \n",
      " 1   Checkup                       308854 non-null  object \n",
      " 2   Exercise                      308854 non-null  object \n",
      " 3   Heart_Disease                 308854 non-null  object \n",
      " 4   Skin_Cancer                   308854 non-null  object \n",
      " 5   Other_Cancer                  308854 non-null  object \n",
      " 6   Depression                    308854 non-null  object \n",
      " 7   Diabetes                      308854 non-null  object \n",
      " 8   Arthritis                     308854 non-null  object \n",
      " 9   Sex                           308854 non-null  object \n",
      " 10  Age_Category                  308854 non-null  object \n",
      " 11  Height_(cm)                   308854 non-null  float64\n",
      " 12  Weight_(kg)                   308854 non-null  float64\n",
      " 13  BMI                           308854 non-null  float64\n",
      " 14  Smoking_History               308854 non-null  object \n",
      " 15  Alcohol_Consumption           308854 non-null  float64\n",
      " 16  Fruit_Consumption             308854 non-null  float64\n",
      " 17  Green_Vegetables_Consumption  308854 non-null  float64\n",
      " 18  FriedPotato_Consumption       308854 non-null  float64\n",
      "dtypes: float64(7), object(12)\n",
      "memory usage: 44.8+ MB\n"
     ]
    }
   ],
   "source": [
    "df.info()"
   ]
  },
  {
   "cell_type": "code",
   "execution_count": 7,
   "id": "2e627865-9847-43c9-a59f-5dceb76d6259",
   "metadata": {
    "tags": []
   },
   "outputs": [
    {
     "data": {
      "text/html": [
       "<div>\n",
       "<style scoped>\n",
       "    .dataframe tbody tr th:only-of-type {\n",
       "        vertical-align: middle;\n",
       "    }\n",
       "\n",
       "    .dataframe tbody tr th {\n",
       "        vertical-align: top;\n",
       "    }\n",
       "\n",
       "    .dataframe thead th {\n",
       "        text-align: right;\n",
       "    }\n",
       "</style>\n",
       "<table border=\"1\" class=\"dataframe\">\n",
       "  <thead>\n",
       "    <tr style=\"text-align: right;\">\n",
       "      <th></th>\n",
       "      <th>Height_(cm)</th>\n",
       "      <th>Weight_(kg)</th>\n",
       "      <th>BMI</th>\n",
       "      <th>Alcohol_Consumption</th>\n",
       "      <th>Fruit_Consumption</th>\n",
       "      <th>Green_Vegetables_Consumption</th>\n",
       "      <th>FriedPotato_Consumption</th>\n",
       "    </tr>\n",
       "  </thead>\n",
       "  <tbody>\n",
       "    <tr>\n",
       "      <th>count</th>\n",
       "      <td>308854.000000</td>\n",
       "      <td>308854.000000</td>\n",
       "      <td>308854.000000</td>\n",
       "      <td>308854.000000</td>\n",
       "      <td>308854.000000</td>\n",
       "      <td>308854.000000</td>\n",
       "      <td>308854.000000</td>\n",
       "    </tr>\n",
       "    <tr>\n",
       "      <th>mean</th>\n",
       "      <td>170.615249</td>\n",
       "      <td>83.588655</td>\n",
       "      <td>28.626211</td>\n",
       "      <td>5.096366</td>\n",
       "      <td>29.835200</td>\n",
       "      <td>15.110441</td>\n",
       "      <td>6.296616</td>\n",
       "    </tr>\n",
       "    <tr>\n",
       "      <th>std</th>\n",
       "      <td>10.658026</td>\n",
       "      <td>21.343210</td>\n",
       "      <td>6.522323</td>\n",
       "      <td>8.199763</td>\n",
       "      <td>24.875735</td>\n",
       "      <td>14.926238</td>\n",
       "      <td>8.582954</td>\n",
       "    </tr>\n",
       "    <tr>\n",
       "      <th>min</th>\n",
       "      <td>91.000000</td>\n",
       "      <td>24.950000</td>\n",
       "      <td>12.020000</td>\n",
       "      <td>0.000000</td>\n",
       "      <td>0.000000</td>\n",
       "      <td>0.000000</td>\n",
       "      <td>0.000000</td>\n",
       "    </tr>\n",
       "    <tr>\n",
       "      <th>25%</th>\n",
       "      <td>163.000000</td>\n",
       "      <td>68.040000</td>\n",
       "      <td>24.210000</td>\n",
       "      <td>0.000000</td>\n",
       "      <td>12.000000</td>\n",
       "      <td>4.000000</td>\n",
       "      <td>2.000000</td>\n",
       "    </tr>\n",
       "    <tr>\n",
       "      <th>50%</th>\n",
       "      <td>170.000000</td>\n",
       "      <td>81.650000</td>\n",
       "      <td>27.440000</td>\n",
       "      <td>1.000000</td>\n",
       "      <td>30.000000</td>\n",
       "      <td>12.000000</td>\n",
       "      <td>4.000000</td>\n",
       "    </tr>\n",
       "    <tr>\n",
       "      <th>75%</th>\n",
       "      <td>178.000000</td>\n",
       "      <td>95.250000</td>\n",
       "      <td>31.850000</td>\n",
       "      <td>6.000000</td>\n",
       "      <td>30.000000</td>\n",
       "      <td>20.000000</td>\n",
       "      <td>8.000000</td>\n",
       "    </tr>\n",
       "    <tr>\n",
       "      <th>max</th>\n",
       "      <td>241.000000</td>\n",
       "      <td>293.020000</td>\n",
       "      <td>99.330000</td>\n",
       "      <td>30.000000</td>\n",
       "      <td>120.000000</td>\n",
       "      <td>128.000000</td>\n",
       "      <td>128.000000</td>\n",
       "    </tr>\n",
       "  </tbody>\n",
       "</table>\n",
       "</div>"
      ],
      "text/plain": [
       "         Height_(cm)    Weight_(kg)            BMI  Alcohol_Consumption  \\\n",
       "count  308854.000000  308854.000000  308854.000000        308854.000000   \n",
       "mean      170.615249      83.588655      28.626211             5.096366   \n",
       "std        10.658026      21.343210       6.522323             8.199763   \n",
       "min        91.000000      24.950000      12.020000             0.000000   \n",
       "25%       163.000000      68.040000      24.210000             0.000000   \n",
       "50%       170.000000      81.650000      27.440000             1.000000   \n",
       "75%       178.000000      95.250000      31.850000             6.000000   \n",
       "max       241.000000     293.020000      99.330000            30.000000   \n",
       "\n",
       "       Fruit_Consumption  Green_Vegetables_Consumption  \\\n",
       "count      308854.000000                 308854.000000   \n",
       "mean           29.835200                     15.110441   \n",
       "std            24.875735                     14.926238   \n",
       "min             0.000000                      0.000000   \n",
       "25%            12.000000                      4.000000   \n",
       "50%            30.000000                     12.000000   \n",
       "75%            30.000000                     20.000000   \n",
       "max           120.000000                    128.000000   \n",
       "\n",
       "       FriedPotato_Consumption  \n",
       "count            308854.000000  \n",
       "mean                  6.296616  \n",
       "std                   8.582954  \n",
       "min                   0.000000  \n",
       "25%                   2.000000  \n",
       "50%                   4.000000  \n",
       "75%                   8.000000  \n",
       "max                 128.000000  "
      ]
     },
     "execution_count": 7,
     "metadata": {},
     "output_type": "execute_result"
    }
   ],
   "source": [
    "df.describe()"
   ]
  },
  {
   "cell_type": "markdown",
   "id": "7bbbf861-26a5-4b2a-82fe-dad8456e5c1b",
   "metadata": {},
   "source": [
    "## Data preparation"
   ]
  },
  {
   "cell_type": "code",
   "execution_count": 8,
   "id": "ea6c8fd0-ef44-489b-9750-f3d6b400164b",
   "metadata": {
    "tags": []
   },
   "outputs": [],
   "source": [
    "from sklearn.preprocessing import OneHotEncoder, StandardScaler, OrdinalEncoder"
   ]
  },
  {
   "cell_type": "code",
   "execution_count": 9,
   "id": "8c3ef6a4-a573-42cd-b0ed-f5d5782eb130",
   "metadata": {
    "tags": []
   },
   "outputs": [],
   "source": [
    "df_cleaned = df.copy()"
   ]
  },
  {
   "cell_type": "code",
   "execution_count": 10,
   "id": "a2722c36-451d-48a0-9b91-83b340fb27a9",
   "metadata": {
    "tags": []
   },
   "outputs": [],
   "source": [
    "ord_cols = [\"Age_Category\", \"General_Health\", \"Checkup\"]\n",
    "num_cols = df_cleaned.select_dtypes(np.number).columns.to_list()\n",
    "cat_cols = list(set(df_cleaned.columns).difference(num_cols + ord_cols))"
   ]
  },
  {
   "cell_type": "code",
   "execution_count": 11,
   "id": "9393e3fd-5f5d-41ac-909b-59ba3051c9c7",
   "metadata": {
    "tags": []
   },
   "outputs": [],
   "source": [
    "std_scaler = StandardScaler()\n",
    "num_features = std_scaler.fit_transform(df_cleaned[num_cols])\n",
    "num_features = pd.DataFrame(num_features, columns=num_cols)\n",
    "\n",
    "ohe_encoder = OneHotEncoder(drop=\"first\", dtype=int, sparse_output=False)\n",
    "cat_features = ohe_encoder.fit_transform(df_cleaned[cat_cols])\n",
    "cat_features = pd.DataFrame(cat_features, columns=ohe_encoder.get_feature_names_out())"
   ]
  },
  {
   "cell_type": "code",
   "execution_count": 12,
   "id": "2dcc8ef6-5a3c-40cb-8472-f8760afdd0b0",
   "metadata": {
    "tags": []
   },
   "outputs": [
    {
     "name": "stdout",
     "output_type": "stream",
     "text": [
      "Age_Category values:\n",
      "['18-24', '25-29', '30-34', '35-39', '40-44', '45-49', '50-54', '55-59', '60-64', '65-69', '70-74', '75-79', '80+']\n",
      "General_Health values:\n",
      "['Excellent', 'Fair', 'Good', 'Poor', 'Very Good']\n",
      "Checkup values:\n",
      "['5 or more years ago', 'Never', 'Within the past 2 years', 'Within the past 5 years', 'Within the past year']\n"
     ]
    }
   ],
   "source": [
    "for col in ord_cols:\n",
    "    print(f\"{col} values:\\n{sorted(df_cleaned[col].unique())}\")"
   ]
  },
  {
   "cell_type": "code",
   "execution_count": 13,
   "id": "fbdad47a-6943-4763-abfb-65d35a03355d",
   "metadata": {
    "tags": []
   },
   "outputs": [],
   "source": [
    "ord_age_encoder = OrdinalEncoder(\n",
    "    categories=[['18-24', '25-29', '30-34', '35-39', '40-44', '45-49', '50-54', '55-59', '60-64', '65-69', '70-74', '75-79', '80+']],\n",
    "    dtype=int,\n",
    ")\n",
    "ord_age_feature = ord_age_encoder.fit_transform(df_cleaned[\"Age_Category\"].values.reshape(-1, 1))\n",
    "ord_age_feature = pd.DataFrame(ord_age_feature, columns=[\"Age_Category\"])"
   ]
  },
  {
   "cell_type": "code",
   "execution_count": 14,
   "id": "500bd4fd-816e-46d1-b85e-06d048bd05a8",
   "metadata": {
    "tags": []
   },
   "outputs": [],
   "source": [
    "ord_health_encoder = OrdinalEncoder(\n",
    "    categories=[['Poor', 'Fair', 'Good', 'Very Good', 'Excellent']],\n",
    "    dtype=int,\n",
    ")\n",
    "ord_health_feature = ord_health_encoder.fit_transform(df_cleaned[\"General_Health\"].values.reshape(-1, 1))\n",
    "ord_health_feature = pd.DataFrame(ord_health_feature, columns=[\"General_Health\"])"
   ]
  },
  {
   "cell_type": "code",
   "execution_count": 15,
   "id": "27f2b894-1725-473d-be8a-e17fde5e2102",
   "metadata": {
    "tags": []
   },
   "outputs": [],
   "source": [
    "ord_checkup_encoder = OrdinalEncoder(\n",
    "    categories=[['Never', 'Within the past year', 'Within the past 2 years', 'Within the past 5 years', '5 or more years ago']],\n",
    "    dtype=int,\n",
    ")\n",
    "ord_checkup_feature = ord_checkup_encoder.fit_transform(df_cleaned[\"Checkup\"].values.reshape(-1, 1))\n",
    "ord_checkup_feature = pd.DataFrame(ord_checkup_feature, columns=[\"Checkup\"])"
   ]
  },
  {
   "cell_type": "code",
   "execution_count": 16,
   "id": "e26c24bf-1415-4ac9-bcd1-144a69605bd3",
   "metadata": {
    "tags": []
   },
   "outputs": [],
   "source": [
    "features = pd.concat([num_features, cat_features, ord_age_feature, ord_health_feature, ord_checkup_feature], axis=1)"
   ]
  },
  {
   "cell_type": "code",
   "execution_count": 17,
   "id": "4ee8c583-987e-4fa1-88be-9ed5cddf934e",
   "metadata": {
    "tags": []
   },
   "outputs": [],
   "source": [
    "features.to_parquet(\"../data/interim/features.parquet\")"
   ]
  },
  {
   "cell_type": "code",
   "execution_count": 18,
   "id": "f0f11023-21f7-4bfd-80c8-d4048ee9cd41",
   "metadata": {},
   "outputs": [
    {
     "data": {
      "text/plain": [
       "0         0\n",
       "1         1\n",
       "2         0\n",
       "3         1\n",
       "4         0\n",
       "         ..\n",
       "308849    0\n",
       "308850    0\n",
       "308851    0\n",
       "308852    0\n",
       "308853    0\n",
       "Name: Heart_Disease_Yes, Length: 308854, dtype: int64"
      ]
     },
     "execution_count": 18,
     "metadata": {},
     "output_type": "execute_result"
    }
   ],
   "source": [
    "features.Heart_Disease_Yes"
   ]
  },
  {
   "cell_type": "code",
   "execution_count": 19,
   "id": "26abb07d-51eb-46f1-8c7e-d70c6e17aed3",
   "metadata": {
    "tags": []
   },
   "outputs": [
    {
     "data": {
      "text/plain": [
       "['../models/ord_checkup_encoder.joblib']"
      ]
     },
     "execution_count": 19,
     "metadata": {},
     "output_type": "execute_result"
    }
   ],
   "source": [
    "import joblib\n",
    "\n",
    "joblib.dump(std_scaler, \"../models/std_scaler.joblib\")\n",
    "joblib.dump(ohe_encoder, \"../models/ohe_encoder.joblib\")\n",
    "joblib.dump(ord_age_encoder, \"../models/ord_age_encoder.joblib\")\n",
    "joblib.dump(ord_health_encoder, \"../models/ord_health_encoder.joblib\")\n",
    "joblib.dump(ord_checkup_encoder, \"../models/ord_checkup_encoder.joblib\")"
   ]
  },
  {
   "cell_type": "code",
   "execution_count": 20,
   "id": "381b1a9e-0ff7-44a7-87b8-019928a56259",
   "metadata": {
    "tags": []
   },
   "outputs": [],
   "source": [
    "target = features.pop(\"Heart_Disease_Yes\").values"
   ]
  },
  {
   "cell_type": "markdown",
   "id": "91b4f1ca-3cb5-42d5-b5ba-d3108404c753",
   "metadata": {},
   "source": [
    "## Data splitting"
   ]
  },
  {
   "cell_type": "code",
   "execution_count": 21,
   "id": "4c32a808-016e-4490-9b6c-279a94f08260",
   "metadata": {
    "tags": []
   },
   "outputs": [
    {
     "data": {
      "image/png": "[encoded data removed]",
      "text/plain": [
       "<Figure size 640x480 with 1 Axes>"
      ]
     },
     "metadata": {},
     "output_type": "display_data"
    }
   ],
   "source": [
    "import matplotlib.pyplot as plt\n",
    "\n",
    "plt.hist(target)\n",
    "plt.show()"
   ]
  },
  {
   "cell_type": "code",
   "execution_count": 22,
   "id": "7d89f3d9-9e5f-4d4e-b09a-a8a35e8153a8",
   "metadata": {},
   "outputs": [],
   "source": [
    "from my_krml_24925125.data.sets import split_sets_random\n",
    "\n",
    "X_train, y_train, X_val, y_val, X_test, y_test = split_sets_random(features, target, test_ratio=0.1)"
   ]
  },
  {
   "cell_type": "code",
   "execution_count": 23,
   "id": "c0f3cb45-ca38-4a48-83fa-448868d35a33",
   "metadata": {
    "tags": []
   },
   "outputs": [],
   "source": [
    "from my_krml_24925125.data.sets import save_sets\n",
    "\n",
    "save_sets(X_train, y_train, X_val, y_val, X_test, y_test, path='../data/processed/')"
   ]
  },
  {
   "cell_type": "markdown",
   "id": "504a65ff-12f1-41be-8d8e-ab7c4e600cc3",
   "metadata": {},
   "source": [
    "## Baseline model"
   ]
  },
  {
   "cell_type": "code",
   "execution_count": 34,
   "id": "3fb76120-719c-4cd9-a547-c472faaae061",
   "metadata": {
    "tags": []
   },
   "outputs": [],
   "source": [
    "from my_krml_24925125.models.null import NullClassifier"
   ]
  },
  {
   "cell_type": "code",
   "execution_count": 35,
   "id": "bfca4a5e-17dc-4816-a1c6-65c8d771c4e5",
   "metadata": {
    "tags": []
   },
   "outputs": [
    {
     "data": {
      "text/plain": [
       "0"
      ]
     },
     "execution_count": 35,
     "metadata": {},
     "output_type": "execute_result"
    }
   ],
   "source": [
    "from scipy.stats import mode\n",
    "\n",
    "mode(y_train).mode"
   ]
  },
  {
   "cell_type": "code",
   "execution_count": 37,
   "id": "fd1c951f-f20a-47bf-b30d-761803ce25d8",
   "metadata": {
    "tags": []
   },
   "outputs": [],
   "source": [
    "base_model = NullClassifier()\n",
    "\n",
    "y_base = base_model.fit_predict(y_train)"
   ]
  },
  {
   "cell_type": "code",
   "execution_count": 40,
   "id": "ade38641-89cc-4f21-bb8b-e7c2551f1e03",
   "metadata": {
    "tags": []
   },
   "outputs": [
    {
     "name": "stdout",
     "output_type": "stream",
     "text": [
      "Accuracy Training: 0.9193789915898366\n",
      "F1 Training: 0.0\n"
     ]
    }
   ],
   "source": [
    "from my_krml_24925125.models.performance import print_classifier_scores\n",
    "\n",
    "print_classifier_scores(y_preds=y_base, y_actuals=y_train, set_name='Training')"
   ]
  },
  {
   "cell_type": "markdown",
   "id": "e09d7198-30c4-4202-b790-a2b284c20f75",
   "metadata": {},
   "source": [
    "## SGDClassifier"
   ]
  },
  {
   "cell_type": "code",
   "execution_count": 41,
   "id": "a49dc39b-8bb5-488c-8aac-9e47aa81b83e",
   "metadata": {
    "tags": []
   },
   "outputs": [],
   "source": [
    "from sklearn.linear_model import SGDClassifier"
   ]
  },
  {
   "cell_type": "code",
   "execution_count": 42,
   "id": "3f94e61b-351d-401a-9f26-5cedf8a5261a",
   "metadata": {
    "tags": []
   },
   "outputs": [],
   "source": [
    "sgd_clf = SGDClassifier()"
   ]
  },
  {
   "cell_type": "code",
   "execution_count": 43,
   "id": "0f799096-a09d-43be-b904-b8ec2e3db0f6",
   "metadata": {
    "tags": []
   },
   "outputs": [],
   "source": [
    "from my_krml_24925125.models.performance import fit_assess_classifier"
   ]
  },
  {
   "cell_type": "code",
   "execution_count": 47,
   "id": "82c5366b-d5d4-41d5-88bb-4259a14ec3ea",
   "metadata": {
    "tags": []
   },
   "outputs": [
    {
     "name": "stdout",
     "output_type": "stream",
     "text": [
      "Accuracy Training: 0.9193789915898366\n",
      "F1 Training: 0.0\n",
      "Accuracy Validation: 0.9193809492974163\n",
      "F1 Validation: 0.0\n"
     ]
    }
   ],
   "source": [
    "sgd_clf = fit_assess_classifier(model=sgd_clf,\n",
    "                                X_train=X_train,\n",
    "                                y_train=y_train,\n",
    "                                X_val=X_val,\n",
    "                                y_val=y_val,\n",
    "                               )"
   ]
  },
  {
   "cell_type": "code",
   "execution_count": 48,
   "id": "dc17cfc0-ad3f-4890-87b7-e91b2271a918",
   "metadata": {
    "tags": []
   },
   "outputs": [
    {
     "data": {
      "text/plain": [
       "['../models/sgd_clf_default.joblib']"
      ]
     },
     "execution_count": 48,
     "metadata": {},
     "output_type": "execute_result"
    }
   ],
   "source": [
    "joblib.dump(sgd_clf, \"../models/sgd_clf_default.joblib\")"
   ]
  },
  {
   "cell_type": "code",
   "execution_count": null,
   "id": "272bfb51-b5be-43a1-bc58-ebdc991f1adb",
   "metadata": {},
   "outputs": [],
   "source": []
  }
 ],
 "metadata": {
  "kernelspec": {
   "display_name": "Python 3 (ipykernel)",
   "language": "python",
   "name": "python3"
  },
  "language_info": {
   "codemirror_mode": {
    "name": "ipython",
    "version": 3
   },
   "file_extension": ".py",
   "mimetype": "text/x-python",
   "name": "python",
   "nbconvert_exporter": "python",
   "pygments_lexer": "ipython3",
   "version": "3.9.13"
  }
 },
 "nbformat": 4,
 "nbformat_minor": 5
}
